{
  "cells": [
    {
      "cell_type": "markdown",
      "id": "3154e14b",
      "metadata": {
        "id": "3154e14b"
      },
      "source": [
        "# Método de bisección"
      ]
    },
    {
      "cell_type": "code",
      "execution_count": 55,
      "id": "9d5e2287",
      "metadata": {
        "id": "9d5e2287"
      },
      "outputs": [],
      "source": [
        "from math import *\n",
        "import numpy as np\n",
        "import matplotlib . pyplot as plt"
      ]
    },
    {
      "cell_type": "code",
      "execution_count": 56,
      "id": "db980446",
      "metadata": {
        "id": "db980446"
      },
      "outputs": [],
      "source": [
        "def funcion1(x):\n",
        "    return x**3 + 4*x**2 - 10.0"
      ]
    },
    {
      "cell_type": "code",
      "execution_count": 57,
      "id": "679a51af",
      "metadata": {
        "id": "679a51af"
      },
      "outputs": [],
      "source": [
        "# Ingreso datos de entrada para los diferentes métodos a trabajar\n",
        "a = 1\n",
        "b = 2\n",
        "\n",
        "# guarda valores iniciales\n",
        "a0 = a\n",
        "b0 = b\n",
        "\n",
        "#guarda valores iniciales del error y del número de iteraciones\n",
        "tol = 0.000001 #float(input(\"Ingrese el valor de la tolerancia: \"))\n",
        "nmax = 100 #float(input(\"Ingrese el número máximo de iteraciones: \"))\n",
        "error = 100\n",
        "niter = 0"
      ]
    },
    {
      "cell_type": "code",
      "execution_count": 58,
      "id": "6b4c08a0",
      "metadata": {
        "id": "6b4c08a0",
        "outputId": "6ce0ded5-bf86-401f-e933-1ee27103a399",
        "colab": {
          "base_uri": "https://localhost:8080/"
        }
      },
      "outputs": [
        {
          "output_type": "stream",
          "name": "stdout",
          "text": [
            "# iter\t\t a \t\t f(a) \t\t b \t\t f(b) \t\t m \t\t f(m) \t\t error\n",
            "0 \t\t 1.0000 \t -5.0000 \t 2.0000 \t 14.0000 \t 1.5000 \t 2.3750 \t 100.0000\n",
            "1 \t\t 1.000000 \t -5.000000 \t 1.500000 \t 2.375000 \t 1.250000 \t -1.796875 \t 0.500000\n",
            "2 \t\t 1.250000 \t -1.796875 \t 1.500000 \t 2.375000 \t 1.375000 \t 0.162109 \t 0.250000\n",
            "3 \t\t 1.250000 \t -1.796875 \t 1.375000 \t 0.162109 \t 1.312500 \t -0.848389 \t 0.125000\n",
            "4 \t\t 1.312500 \t -0.848389 \t 1.375000 \t 0.162109 \t 1.343750 \t -0.350983 \t 0.062500\n",
            "5 \t\t 1.343750 \t -0.350983 \t 1.375000 \t 0.162109 \t 1.359375 \t -0.096409 \t 0.031250\n",
            "6 \t\t 1.359375 \t -0.096409 \t 1.375000 \t 0.162109 \t 1.367188 \t 0.032356 \t 0.015625\n",
            "7 \t\t 1.359375 \t -0.096409 \t 1.367188 \t 0.032356 \t 1.363281 \t -0.032150 \t 0.007812\n",
            "8 \t\t 1.363281 \t -0.032150 \t 1.367188 \t 0.032356 \t 1.365234 \t 0.000072 \t 0.003906\n",
            "9 \t\t 1.363281 \t -0.032150 \t 1.365234 \t 0.000072 \t 1.364258 \t -0.016047 \t 0.001953\n",
            "10 \t\t 1.364258 \t -0.016047 \t 1.365234 \t 0.000072 \t 1.364746 \t -0.007989 \t 0.000977\n",
            "11 \t\t 1.364746 \t -0.007989 \t 1.365234 \t 0.000072 \t 1.364990 \t -0.003959 \t 0.000488\n",
            "12 \t\t 1.364990 \t -0.003959 \t 1.365234 \t 0.000072 \t 1.365112 \t -0.001944 \t 0.000244\n",
            "13 \t\t 1.365112 \t -0.001944 \t 1.365234 \t 0.000072 \t 1.365173 \t -0.000936 \t 0.000122\n",
            "14 \t\t 1.365173 \t -0.000936 \t 1.365234 \t 0.000072 \t 1.365204 \t -0.000432 \t 0.000061\n",
            "15 \t\t 1.365204 \t -0.000432 \t 1.365234 \t 0.000072 \t 1.365219 \t -0.000180 \t 0.000031\n",
            "16 \t\t 1.365219 \t -0.000180 \t 1.365234 \t 0.000072 \t 1.365227 \t -0.000054 \t 0.000015\n",
            "17 \t\t 1.365227 \t -0.000054 \t 1.365234 \t 0.000072 \t 1.365231 \t 0.000009 \t 0.000008\n",
            "18 \t\t 1.365227 \t -0.000054 \t 1.365231 \t 0.000009 \t 1.365229 \t -0.000022 \t 0.000004\n",
            "19 \t\t 1.365229 \t -0.000022 \t 1.365231 \t 0.000009 \t 1.365230 \t -0.000007 \t 0.000002\n",
            "20 \t\t 1.365230 \t -0.000007 \t 1.365231 \t 0.000009 \t 1.365230 \t 0.000001 \t 0.000001\n",
            "La raíz de la función dada en el intervalo [1.0000,2.0000] es 1.3652301\n",
            "[0.5, 0.25, 0.125, 0.0625, 0.03125, 0.015625, 0.0078125, 0.00390625, 0.001953125, 0.0009765625, 0.00048828125, 0.000244140625, 0.0001220703125, 6.103515625e-05, 3.0517578125e-05, 1.52587890625e-05, 7.62939453125e-06, 3.814697265625e-06, 1.9073486328125e-06, 9.5367431640625e-07]\n"
          ]
        }
      ],
      "source": [
        "# Método de Bisección\n",
        "\n",
        "# evaluo primer valor medio\n",
        "m = a + (b - a)/2\n",
        "\n",
        "#Evaluacion de la función en los puntos a, b y m\n",
        "fa = funcion1(a)\n",
        "fb = funcion1(b)\n",
        "fm = funcion1(m)\n",
        "\n",
        "print(\"# iter\\t\\t a \\t\\t f(a) \\t\\t b \\t\\t f(b) \\t\\t m \\t\\t f(m) \\t\\t error\")\n",
        "print(\"{0} \\t\\t {1:6.4f} \\t {2:6.4f} \\t {3:6.4f} \\t {4:6.4f} \\t {5:6.4f} \\t {6:6.4f} \\t {7:6.4f}\".format(niter, a0, fa, b0, fb, m, fm, error ))\n",
        "\n",
        "# ciclo iterativo\n",
        "errores=[] #lista de errores#\n",
        "while error > tol and niter < nmax:\n",
        "    m = a + (b - a) / 2\n",
        "    if np.sign(fa) == np.sign(fm):\n",
        "        a = m\n",
        "        fa = funcion1(a)\n",
        "    else:\n",
        "        b = m\n",
        "        fb = funcion1(b)\n",
        "\n",
        "    m = a + (b - a)/2\n",
        "    fm = funcion1(m)\n",
        "    error = abs(b - a)\n",
        "    errores.append(error)#por cad alteración se va guardando el valor del error#\n",
        "    niter += 1\n",
        "    print(\"{0} \\t\\t {1:6.6f} \\t {2:6.6f} \\t {3:6.6f} \\t {4:6.6f} \\t {5:6.6f} \\t {6:6.6f} \\t {7:6.6f}\".format(niter, a, fa, b, fb, m, fm, error ))\n",
        "\n",
        "print(\"La raíz de la función dada en el intervalo [{0:6.4f},{1:6.4f}] es {2:6.7f}\".format(a0,b0,m))\n",
        "print(errores)"
      ]
    },
    {
      "cell_type": "code",
      "execution_count": 61,
      "id": "b59ace03",
      "metadata": {
        "id": "b59ace03",
        "outputId": "28b13f65-a4e8-4383-871a-e404996be7a0",
        "colab": {
          "base_uri": "https://localhost:8080/",
          "height": 229
        }
      },
      "outputs": [
        {
          "output_type": "display_data",
          "data": {
            "text/plain": [
              "<Figure size 640x480 with 1 Axes>"
            ],
            "image/png": "[encoded data removed]"
          },
          "metadata": {}
        }
      ],
      "source": [
        "plt.plot(errores) #grafica de los errores)#\n",
        "plt.axhline(0, color=\"black\")\n",
        "plt.axvline(0, color=\"black\")\n",
        "plt.xlim(0, 20)\n",
        "plt.ylim(0, 0.5)\n",
        "plt.xlabel(\"i\")\n",
        "plt.ylabel(\"e\")\n",
        "plt.title(\"Errores\")\n",
        "plt.show()"
      ]
    }
  ],
  "metadata": {
    "kernelspec": {
      "display_name": "Python 3 (ipykernel)",
      "language": "python",
      "name": "python3"
    },
    "language_info": {
      "codemirror_mode": {
        "name": "ipython",
        "version": 3
      },
      "file_extension": ".py",
      "mimetype": "text/x-python",
      "name": "python",
      "nbconvert_exporter": "python",
      "pygments_lexer": "ipython3",
      "version": "3.7.3"
    },
    "colab": {
      "provenance": []
    }
  },
  "nbformat": 4,
  "nbformat_minor": 5
}