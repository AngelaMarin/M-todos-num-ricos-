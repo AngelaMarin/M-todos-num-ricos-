{
  "nbformat": 4,
  "nbformat_minor": 0,
  "metadata": {
    "colab": {
      "provenance": [],
      "authorship_tag": "ABX9TyM1RvEixWRyskqvCkPr+18X",
      "include_colab_link": true
    },
    "kernelspec": {
      "name": "python3",
      "display_name": "Python 3"
    },
    "language_info": {
      "name": "python"
    }
  },
  "cells": [
    {
      "cell_type": "markdown",
      "metadata": {
        "id": "view-in-github",
        "colab_type": "text"
      },
      "source": [
        "<a href=\"https://colab.research.google.com/github/AngelaMarin/M-todos-num-ricos-/blob/main/Derivadas_gr%C3%A1ficas_11_09.ipynb\" target=\"_parent\"><img src=\"https://colab.research.google.com/assets/colab-badge.svg\" alt=\"Open In Colab\"/></a>"
      ]
    },
    {
      "cell_type": "code",
      "execution_count": 15,
      "metadata": {
        "id": "pepL1xvKKj6f"
      },
      "outputs": [],
      "source": [
        "import sympy as sp"
      ]
    },
    {
      "cell_type": "markdown",
      "source": [
        "Derivadas de $f(x)=e^{x/2}sen(x/3)$"
      ],
      "metadata": {
        "id": "l9hmoWEPNnFm"
      }
    },
    {
      "cell_type": "code",
      "source": [
        "x=sp.Symbol('x')\n",
        "f=sp.exp(x/2)*sp.sin(x/3)"
      ],
      "metadata": {
        "id": "cYtMnSeIK7Wr"
      },
      "execution_count": 20,
      "outputs": []
    },
    {
      "cell_type": "code",
      "source": [
        "#Primera derivaba#\n",
        "f_uno=sp.diff(f,x)\n",
        "print(f_uno)"
      ],
      "metadata": {
        "colab": {
          "base_uri": "https://localhost:8080/"
        },
        "id": "5gZSjft_L7Bs",
        "outputId": "cd5114a7-7c9f-4d6c-bd3b-432ccdc5c9db"
      },
      "execution_count": 21,
      "outputs": [
        {
          "output_type": "stream",
          "name": "stdout",
          "text": [
            "exp(x/2)*sin(x/3)/2 + exp(x/2)*cos(x/3)/3\n"
          ]
        }
      ]
    },
    {
      "cell_type": "code",
      "source": [
        "#Segunda derivada#\n",
        "f_dos=sp.diff(f_uno, x)\n",
        "print(f_dos)"
      ],
      "metadata": {
        "colab": {
          "base_uri": "https://localhost:8080/"
        },
        "id": "0NrK0v7yMWHA",
        "outputId": "80867a0f-c0ba-4ab0-d6b6-14aae1208347"
      },
      "execution_count": 22,
      "outputs": [
        {
          "output_type": "stream",
          "name": "stdout",
          "text": [
            "5*exp(x/2)*sin(x/3)/36 + exp(x/2)*cos(x/3)/3\n"
          ]
        }
      ]
    },
    {
      "cell_type": "code",
      "source": [
        "#Tercera derivada#\n",
        "f_tres=sp.diff(f_dos, x)\n",
        "print(f_tres)"
      ],
      "metadata": {
        "colab": {
          "base_uri": "https://localhost:8080/"
        },
        "id": "FOKp_x-4Mp4S",
        "outputId": "2dedf1e5-7835-4003-a012-93671bdef63b"
      },
      "execution_count": 23,
      "outputs": [
        {
          "output_type": "stream",
          "name": "stdout",
          "text": [
            "-exp(x/2)*sin(x/3)/24 + 23*exp(x/2)*cos(x/3)/108\n"
          ]
        }
      ]
    },
    {
      "cell_type": "code",
      "source": [
        "#Cuarta derivada#\n",
        "f_cuatro=sp.diff(f_tres,x)\n",
        "print(f_cuatro)"
      ],
      "metadata": {
        "colab": {
          "base_uri": "https://localhost:8080/"
        },
        "id": "YCe5cr0SNV2f",
        "outputId": "6bcd3e8a-e9b9-44f0-ee30-9f85c365a065"
      },
      "execution_count": 24,
      "outputs": [
        {
          "output_type": "stream",
          "name": "stdout",
          "text": [
            "-119*exp(x/2)*sin(x/3)/1296 + 5*exp(x/2)*cos(x/3)/54\n"
          ]
        }
      ]
    },
    {
      "cell_type": "markdown",
      "source": [
        "Gráfica de $f(x)=e^{x/2}sen(x/3)$"
      ],
      "metadata": {
        "id": "F4fZRvaTN6t7"
      }
    },
    {
      "cell_type": "code",
      "source": [
        "import numpy as np\n",
        "import matplotlib.pyplot as plt"
      ],
      "metadata": {
        "id": "Y9lr7CxNNkVa"
      },
      "execution_count": 18,
      "outputs": []
    },
    {
      "cell_type": "code",
      "source": [
        "def f(x):\n",
        "   return np.exp(x/2)*np.sin(x/3)"
      ],
      "metadata": {
        "id": "l7YUSpJzNlQp"
      },
      "execution_count": 26,
      "outputs": []
    },
    {
      "cell_type": "code",
      "source": [
        "x=np.linspace(-10,100,1000)"
      ],
      "metadata": {
        "id": "UKO0-4JrO5dL"
      },
      "execution_count": 38,
      "outputs": []
    },
    {
      "cell_type": "code",
      "source": [
        "plt.plot(x, f(x))\n",
        "plt.title(\"Grafica de $f(x)=e^{x/2}sen(x/3)$\")\n",
        "plt.axhline(0, color=\"black\")\n",
        "plt.axvline(0, color=\"black\")\n",
        "plt.xlim(-1,100)\n",
        "plt.ylim(-100,100)\n",
        "plt.show()"
      ],
      "metadata": {
        "colab": {
          "base_uri": "https://localhost:8080/",
          "height": 224
        },
        "id": "yumSWMu0PKTt",
        "outputId": "fa16b9a7-f589-4bc7-e98a-66f657dfed00"
      },
      "execution_count": 39,
      "outputs": [
        {
          "output_type": "display_data",
          "data": {
            "text/plain": [
              "<Figure size 640x480 with 1 Axes>"
            ],
            "image/png": "[encoded data removed]"
          },
          "metadata": {}
        }
      ]
    }
  ]
}