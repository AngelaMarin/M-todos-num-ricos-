{
  "nbformat": 4,
  "nbformat_minor": 0,
  "metadata": {
    "colab": {
      "provenance": [],
      "authorship_tag": "ABX9TyN6q+fVyT5CFuwWuOpRmYXu",
      "include_colab_link": true
    },
    "kernelspec": {
      "name": "python3",
      "display_name": "Python 3"
    },
    "language_info": {
      "name": "python"
    }
  },
  "cells": [
    {
      "cell_type": "markdown",
      "metadata": {
        "id": "view-in-github",
        "colab_type": "text"
      },
      "source": [
        "<a href=\"https://colab.research.google.com/github/AngelaMarin/M-todos-num-ricos-/blob/main/SVD_para_imagen.ipynb\" target=\"_parent\"><img src=\"https://colab.research.google.com/assets/colab-badge.svg\" alt=\"Open In Colab\"/></a>"
      ]
    },
    {
      "cell_type": "code",
      "execution_count": 10,
      "metadata": {
        "id": "DDZQD2JezB6r"
      },
      "outputs": [],
      "source": [
        "import numpy as np\n",
        "from PIL import Image\n",
        "import requests\n",
        "from io import BytesIO"
      ]
    },
    {
      "cell_type": "code",
      "source": [
        "#Para el inciso a) definimos una función para descompoer en valores singulares una imagen\n",
        "def SVD(imagen):\n",
        "    response = requests.get(imagen)\n",
        "    img = Image.open(BytesIO(response.content)).convert('L')  # Convertirtimos la imagen  a escala de grises\n",
        "    matriz = np.array(img) #Generamos la matriz de la imagen\n",
        "    U, S, VT = np.linalg.svd(matriz)\n",
        "    rango = np.linalg.matrix_rank(matriz)\n",
        "    return U, S, VT, rango\n",
        "\n",
        "#Damos URL de la imagen\n",
        "imagen = \"https://img.freepik.com/fotos-premium/fractal-blanco-negro_730031-147.jpg?w=740\"\n",
        "\n",
        "#Calculamos el SVD de la imagen\n",
        "U, S, VT, rango = SVD(imagen)\n",
        "print(\"Rango de la imagen:\", rango)\n",
        "\n",
        "#Para el inciso b)  definimso una función para comprimir la imagen truncada\n",
        "def comprimir(U, S, VT, k):\n",
        "    U_k = U[:, :k]\n",
        "    S_k = np.diag(S[:k])\n",
        "    VT_k = VT[:k, :]\n",
        "    comprimir = np.dot(U_k, np.dot(S_k, VT_k))\n",
        "    return comprimir\n",
        "\n",
        "#Valores de k para la compresión\n",
        "k_values = [50, 200]\n",
        "\n",
        "#Comprimir la imagen para cada valor de k\n",
        "for k in k_values:\n",
        "    comprimida = comprimir(U_image, S_image, VT_image, k)\n",
        "    imagentrunca = Image.fromarray(comprimida.astype(np.uint8))\n",
        "    imagentrunca.save(f\"imagen_comprimida_{k}.png\")\n",
        ""
      ],
      "metadata": {
        "colab": {
          "base_uri": "https://localhost:8080/"
        },
        "id": "psxBpLKm6MAT",
        "outputId": "11491ba6-0324-4665-fd28-e30921646326"
      },
      "execution_count": 27,
      "outputs": [
        {
          "output_type": "stream",
          "name": "stdout",
          "text": [
            "Rango de la imagen: 740\n"
          ]
        }
      ]
    }
  ]
}