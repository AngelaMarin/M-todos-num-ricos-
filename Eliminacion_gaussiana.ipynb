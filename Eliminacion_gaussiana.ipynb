{
  "nbformat": 4,
  "nbformat_minor": 0,
  "metadata": {
    "colab": {
      "provenance": [],
      "authorship_tag": "ABX9TyOlKVAbq0XwCm1VLe+r+4PB",
      "include_colab_link": true
    },
    "kernelspec": {
      "name": "python3",
      "display_name": "Python 3"
    },
    "language_info": {
      "name": "python"
    }
  },
  "cells": [
    {
      "cell_type": "markdown",
      "metadata": {
        "id": "view-in-github",
        "colab_type": "text"
      },
      "source": [
        "<a href=\"https://colab.research.google.com/github/AngelaMarin/M-todos-num-ricos-/blob/main/Eliminacion_gaussiana.ipynb\" target=\"_parent\"><img src=\"https://colab.research.google.com/assets/colab-badge.svg\" alt=\"Open In Colab\"/></a>"
      ]
    },
    {
      "cell_type": "code",
      "execution_count": 37,
      "metadata": {
        "id": "PZnLQ4nXyjFg"
      },
      "outputs": [],
      "source": [
        "import numpy as np"
      ]
    },
    {
      "cell_type": "code",
      "source": [
        "#Definiremos una función que nos devuelva el valor de las incognitas de un sistema de ecuaciones mediante la eliminación gaussiana\n",
        "def EG(A): #Esta función necesitara la matríz aumentada del sistema de ecuaciones a resolver\n",
        "  n=len(A)\n",
        "  for i in range (n-1):\n",
        "    p=i\n",
        "    while p<n and A[p][i]==0:\n",
        "      p+=1\n",
        "    if p==n:\n",
        "      return(\"No hay solución única\")\n",
        "    if p!=i:\n",
        "      A[i],A[p]=A[p],A[i] #Este es el paso para cambiar las columnas\n",
        "    for j in range(i+1,n):\n",
        "      m=A[j][i]/A[i][i]\n",
        "      for k in range(i,n+1):\n",
        "        A[j][k]-=m*A[i][k]\n",
        "  if A[n-1][n-1]==0:\n",
        "    return(\"No hay solución única\")\n",
        "  x=[0]*n\n",
        "  x[n-1]=A[n-1][n]/A[n-1][n-1]\n",
        "  for i in range (n-2,-1,-1):\n",
        "    s=sum(A[i][j]*x[j] for j in range(i+1,n))\n",
        "    x[i]=(A[i][n]-s)/A[i][i]\n",
        "    return x\n",
        ""
      ],
      "metadata": {
        "id": "Cpzioy_uFTvi"
      },
      "execution_count": 43,
      "outputs": []
    },
    {
      "cell_type": "code",
      "source": [
        "A=np.array([[1,-1,2,-1,-8],[2,-2,3,-3,-20],[1,1,1,0,-2],[1,.1,4,3,4]])\n",
        "print(\"La solución al sistema de ecuaciones es:\", EG(A))"
      ],
      "metadata": {
        "colab": {
          "base_uri": "https://localhost:8080/"
        },
        "id": "46TmAU88Py7e",
        "outputId": "4ef6df99-a048-4680-c637-25305b3ba483"
      },
      "execution_count": 44,
      "outputs": [
        {
          "output_type": "stream",
          "name": "stdout",
          "text": [
            "La solución al sistema de ecuaciones es: No hay solución única\n"
          ]
        }
      ]
    }
  ]
}