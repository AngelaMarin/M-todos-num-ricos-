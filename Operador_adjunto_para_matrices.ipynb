{
  "nbformat": 4,
  "nbformat_minor": 0,
  "metadata": {
    "colab": {
      "provenance": [],
      "authorship_tag": "ABX9TyP8Xfs3lte/u84EvafDn4ZE",
      "include_colab_link": true
    },
    "kernelspec": {
      "name": "python3",
      "display_name": "Python 3"
    },
    "language_info": {
      "name": "python"
    }
  },
  "cells": [
    {
      "cell_type": "markdown",
      "metadata": {
        "id": "view-in-github",
        "colab_type": "text"
      },
      "source": [
        "<a href=\"https://colab.research.google.com/github/AngelaMarin/M-todos-num-ricos-/blob/main/Operador_adjunto_para_matrices.ipynb\" target=\"_parent\"><img src=\"https://colab.research.google.com/assets/colab-badge.svg\" alt=\"Open In Colab\"/></a>"
      ]
    },
    {
      "cell_type": "code",
      "execution_count": 9,
      "metadata": {
        "id": "Jb2CkCA-_Wjd"
      },
      "outputs": [],
      "source": [
        "import numpy as np"
      ]
    },
    {
      "cell_type": "code",
      "source": [
        "#Como el operador adjunto se define como la transpuesta podemos usar la función de Numpy para calcularla o bien hacer un código para hacerlo\n",
        "#Para esto vamos a empezar por definir una función\n",
        "\n",
        "def adjunta(H):\n",
        "  f=len(H) #f:=filas\n",
        "  c=len(H[0]) if f>0 else 0  #c:= columnas\n",
        "  adjunta=[[H[i][j] for i in range(f)] for j in range(c)]\n",
        "\n",
        "  return print(adjunta)"
      ],
      "metadata": {
        "id": "HqJZTkDt_vkg"
      },
      "execution_count": 7,
      "outputs": []
    },
    {
      "cell_type": "code",
      "source": [
        "#Damos la matriz H\n",
        "H=[[1,1],[1,1],[1,1]]\n",
        "\n",
        "#Usando nuestra rutina numérica:\n",
        "adjunta(H)\n",
        "\n",
        "#Usando la transpuesta de la librería\n",
        "g=np.transpose(H)\n",
        "print(g)"
      ],
      "metadata": {
        "colab": {
          "base_uri": "https://localhost:8080/"
        },
        "id": "rzxh_JN3A--N",
        "outputId": "60ae523b-d5f0-4f89-b4b5-df1a03d9264f"
      },
      "execution_count": 8,
      "outputs": [
        {
          "output_type": "stream",
          "name": "stdout",
          "text": [
            "[[1, 1, 1], [1, 1, 1]]\n",
            "[[1 1 1]\n",
            " [1 1 1]]\n"
          ]
        }
      ]
    }
  ]
}