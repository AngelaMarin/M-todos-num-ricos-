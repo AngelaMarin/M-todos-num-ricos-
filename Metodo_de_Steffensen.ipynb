{
  "nbformat": 4,
  "nbformat_minor": 0,
  "metadata": {
    "colab": {
      "provenance": [],
      "authorship_tag": "ABX9TyO45BfxiIM3DQohng9y02S0",
      "include_colab_link": true
    },
    "kernelspec": {
      "name": "python3",
      "display_name": "Python 3"
    },
    "language_info": {
      "name": "python"
    }
  },
  "cells": [
    {
      "cell_type": "markdown",
      "metadata": {
        "id": "view-in-github",
        "colab_type": "text"
      },
      "source": [
        "<a href=\"https://colab.research.google.com/github/AngelaMarin/M-todos-num-ricos-/blob/main/Metodo_de_Steffensen.ipynb\" target=\"_parent\"><img src=\"https://colab.research.google.com/assets/colab-badge.svg\" alt=\"Open In Colab\"/></a>"
      ]
    },
    {
      "cell_type": "markdown",
      "source": [
        "Método de Steffensen aplicado a lafunción:\\\n",
        "$f(x)=cos(x)-2x+3$\\\n",
        "Proponemos la siguiente transformación:\\\n",
        "$g(x)=\\frac{cos(x)+3}{2}$\n"
      ],
      "metadata": {
        "id": "LuYe39hvbPdl"
      }
    },
    {
      "cell_type": "code",
      "execution_count": 65,
      "metadata": {
        "id": "F-ENwlt2L3zQ"
      },
      "outputs": [],
      "source": [
        "from math import *\n",
        "import numpy as np\n",
        "import matplotlib.pyplot as plt"
      ]
    },
    {
      "cell_type": "code",
      "source": [
        "#Definimos la función que se usara en el método\n",
        "def f(x):\n",
        "  return cos(x)-2*x+3\n",
        "#Definimos la función a la cual se le aplicara el método\n",
        "def g(x):\n",
        "  return (cos(x)+3)/2\n"
      ],
      "metadata": {
        "id": "dD_S2kKTzvwO"
      },
      "execution_count": 66,
      "outputs": []
    },
    {
      "cell_type": "code",
      "source": [
        "#Damos el punto inicial y el intervalo\n",
        "a=1\n",
        "b=2\n",
        "p=1\n",
        "\n",
        "#Guardamos los datos\n",
        "p0=p\n",
        "#Damos los valores iniciales para el error y los contadores\n",
        "tol=0.00001 #Solución exacta a 10^-5\n",
        "nmax=100 #Número maximo de iteraciónes\n",
        "error=1 #Error inicial\n",
        "niter=0 #Contador de iteraciones"
      ],
      "metadata": {
        "id": "OPNYDFSz0V9T"
      },
      "execution_count": 73,
      "outputs": []
    },
    {
      "cell_type": "code",
      "source": [
        "#Método de Steffensen\n",
        "\n",
        "#Imprimimos el encabezado y la primera linea de la tabla de iteraciones\n",
        "print(\"# iter\\t\\t p \\t\\t error\")\n",
        "print(\"{0}\\t\\t {1:6.6f} \\t {2:6.6f} \\t \".format(niter, p, error))\n",
        "\n",
        "\n",
        "#Cliclo iterativo\n",
        "while error>tol and niter<nmax:\n",
        "  p1=g(p0)\n",
        "  p2=g(p1)\n",
        "  p=p0-((p1-p0)**2)/(p2-2*p1+p0) #Iteración del método de Steffensen\n",
        "  error=abs(p-p0)\n",
        "  niter+=1\n",
        "  p0=p\n",
        "  print(\"{0} \\t\\t {1:6.6f} \\t {2:6.6f}\".format(niter, p, error))\n",
        "\n",
        "print(\"La raíz de la función dada en el intervalo [{0:1.0f}, {1:1.0f}] es {2:6.6f}\".format(a, b, p))"
      ],
      "metadata": {
        "colab": {
          "base_uri": "https://localhost:8080/"
        },
        "id": "7f1voqtJ3Hjd",
        "outputId": "abe4823d-ab10-42b9-fc4b-e6245b378a54"
      },
      "execution_count": 74,
      "outputs": [
        {
          "output_type": "stream",
          "name": "stdout",
          "text": [
            "# iter\t\t p \t\t error\n",
            "0\t\t 1.000000 \t 1.000000 \t \n",
            "1 \t\t 1.520602 \t 0.520602\n",
            "2 \t\t 1.523593 \t 0.002991\n",
            "3 \t\t 1.523593 \t 0.000000\n",
            "La raíz de la función dada en el intervalo [1, 2] es 1.523593\n"
          ]
        }
      ]
    }
  ]
}