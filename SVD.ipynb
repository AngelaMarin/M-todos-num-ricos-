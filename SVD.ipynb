{
  "nbformat": 4,
  "nbformat_minor": 0,
  "metadata": {
    "colab": {
      "provenance": [],
      "authorship_tag": "ABX9TyPwWwZhLoYm75dS6iYw/WDk",
      "include_colab_link": true
    },
    "kernelspec": {
      "name": "python3",
      "display_name": "Python 3"
    },
    "language_info": {
      "name": "python"
    }
  },
  "cells": [
    {
      "cell_type": "markdown",
      "metadata": {
        "id": "view-in-github",
        "colab_type": "text"
      },
      "source": [
        "<a href=\"https://colab.research.google.com/github/AngelaMarin/M-todos-num-ricos-/blob/main/SVD.ipynb\" target=\"_parent\"><img src=\"https://colab.research.google.com/assets/colab-badge.svg\" alt=\"Open In Colab\"/></a>"
      ]
    },
    {
      "cell_type": "code",
      "execution_count": 3,
      "metadata": {
        "id": "uguKNC-z6iJR"
      },
      "outputs": [],
      "source": [
        "import numpy as np"
      ]
    },
    {
      "cell_type": "code",
      "source": [
        "#Para el inciso a) definimos una función para la descomposición en valores singulares\n",
        "def SVD(matriz):\n",
        "    transpuesta = matriz.transpose() #Usamos el comando de Numpy para la transpuesta\n",
        "    producto = np.dot(transpuesta, matriz) #Usamos el comando de Numpy para el producto punto de matrices\n",
        "    evalores, evectores = np.linalg.eig(producto) #Este comando en Numpy calcula los eigen vectores y eigen valores de una matriz cuadrada\n",
        "    v_singulares = np.sqrt(evalores)\n",
        "\n",
        "    #Ordenamos valores singulares y vectores singulares\n",
        "    indices = np.argsort(v_singulares)[::-1]\n",
        "    v_singulares = v_singulares[indices]\n",
        "    evectores = evectores[:, indices]\n",
        "\n",
        "    #Calculamos la matriz U\n",
        "    U = np.zeros_like(matriz)\n",
        "    for i in range(matriz.shape[0]):\n",
        "        M[:, i] = np.dot(matriz, evectores[:, i]) / v_singulares[i]\n",
        "\n",
        "    return U, v_singulares, evectores.transpose()"
      ],
      "metadata": {
        "id": "npMEwwg1_-o5"
      },
      "execution_count": 4,
      "outputs": []
    },
    {
      "cell_type": "code",
      "source": [
        "#Generamos la matriz 5x5 aleatoria\n",
        "M = np.random.rand(5, 5)\n",
        "\n",
        "#Usamos nuestra función\n",
        "SVD(M)\n",
        "print(SVD(M))\n",
        "\n",
        "#Para el inciso b) usamos la función SVD de NumPy\n",
        "V = np.linalg.svd(M)\n",
        "print(V)"
      ],
      "metadata": {
        "colab": {
          "base_uri": "https://localhost:8080/"
        },
        "id": "pqP3Mj8gVR8v",
        "outputId": "583c49dd-5b54-40c1-e0a1-6b98edfdc769"
      },
      "execution_count": 9,
      "outputs": [
        {
          "output_type": "stream",
          "name": "stdout",
          "text": [
            "(array([[0., 0., 0., 0., 0.],\n",
            "       [0., 0., 0., 0., 0.],\n",
            "       [0., 0., 0., 0., 0.],\n",
            "       [0., 0., 0., 0., 0.],\n",
            "       [0., 0., 0., 0., 0.]]), array([2.10439089e+01, 1.84586070e+00, 1.10779989e+00, 9.25872656e-02,\n",
            "       8.62923387e-03]), array([[ 0.04543314, -0.07704629,  0.03201685, -0.45239683, -0.8867422 ],\n",
            "       [-0.01450603,  0.22430871, -0.25248255,  0.82612804, -0.45082169],\n",
            "       [ 0.25723467, -0.7143192 , -0.6491896 ,  0.02216135,  0.04049868],\n",
            "       [ 0.67737728, -0.30892382,  0.61413786,  0.25747174, -0.04763485],\n",
            "       [-0.68754327, -0.58143239,  0.36961471,  0.21463163, -0.0808632 ]]))\n",
            "SVDResult(U=array([[-0.37936409,  0.20781651,  0.23225253,  0.84761362,  0.20125878],\n",
            "       [-0.46231831, -0.18314683, -0.57491992, -0.15434625,  0.63116032],\n",
            "       [-0.72462141, -0.18080949, -0.04749619, -0.11172552, -0.65382969],\n",
            "       [-0.31809321,  0.68783825,  0.39786124, -0.47080958,  0.21386918],\n",
            "       [ 0.12682739,  0.64610836, -0.67451938,  0.15357126, -0.29647643]]), S=array([3.82956451e+02, 3.73606238e+00, 3.66044399e-01, 6.82258842e-03,\n",
            "       3.85500084e-05]), Vh=array([[ 2.44080397e-03,  7.03890734e-04, -3.04356713e-03,\n",
            "        -4.25926467e-02, -9.99084656e-01],\n",
            "       [-8.66942474e-02,  2.44818366e-01, -2.84233212e-02,\n",
            "         9.64392939e-01, -4.10664076e-02],\n",
            "       [ 3.99425621e-01,  8.21047883e-01,  3.74579583e-01,\n",
            "        -1.61172649e-01,  7.28422682e-03],\n",
            "       [-4.81662297e-01, -1.54865835e-01,  8.62290179e-01,\n",
            "         2.12236775e-02, -4.81747216e-03],\n",
            "       [-7.75202396e-01,  4.91894723e-01, -3.39600700e-01,\n",
            "        -2.04218165e-01,  8.19341254e-03]]))\n"
          ]
        }
      ]
    }
  ]
}