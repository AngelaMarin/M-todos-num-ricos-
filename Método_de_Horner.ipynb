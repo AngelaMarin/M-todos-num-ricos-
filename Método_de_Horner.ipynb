{
  "nbformat": 4,
  "nbformat_minor": 0,
  "metadata": {
    "colab": {
      "provenance": [],
      "authorship_tag": "ABX9TyOo0zeX2P6T+qmzvJEj/F9o",
      "include_colab_link": true
    },
    "kernelspec": {
      "name": "python3",
      "display_name": "Python 3"
    },
    "language_info": {
      "name": "python"
    }
  },
  "cells": [
    {
      "cell_type": "markdown",
      "metadata": {
        "id": "view-in-github",
        "colab_type": "text"
      },
      "source": [
        "<a href=\"https://colab.research.google.com/github/AngelaMarin/M-todos-num-ricos-/blob/main/M%C3%A9todo_de_Horner.ipynb\" target=\"_parent\"><img src=\"https://colab.research.google.com/assets/colab-badge.svg\" alt=\"Open In Colab\"/></a>"
      ]
    },
    {
      "cell_type": "markdown",
      "source": [
        "Método de Horner para el polinomio:\\\n",
        "$P(x)=2x^4-3x^2+3x-4$\\\n",
        "en $x_0=-2$"
      ],
      "metadata": {
        "id": "UJmFUGZcDjfn"
      }
    },
    {
      "cell_type": "code",
      "execution_count": 136,
      "metadata": {
        "id": "HvQkc5V_fNK7"
      },
      "outputs": [],
      "source": [
        "from math import *\n",
        "import numpy as np\n",
        "import sympy as sp\n",
        "import matplotlib.pyplot as plt"
      ]
    },
    {
      "cell_type": "markdown",
      "source": [
        "Usamos la libreria sympy para calcular la derivada del polinomio"
      ],
      "metadata": {
        "id": "rDwjE_vwI0YG"
      }
    },
    {
      "cell_type": "code",
      "source": [
        "#Definimos la variable que se usará para la función y su derivada, así como la función\n",
        "x=sp.Symbol('x')\n",
        "F=2*x**4-3*x**2+3*x-4"
      ],
      "metadata": {
        "id": "EoYMZ2cP9s_x"
      },
      "execution_count": 125,
      "outputs": []
    },
    {
      "cell_type": "code",
      "source": [
        "#Calculamos la derivada de la función que definimos en la linea anterior\n",
        "f_1=sp.diff(F,x)\n",
        "print(f_1)"
      ],
      "metadata": {
        "colab": {
          "base_uri": "https://localhost:8080/"
        },
        "id": "1V-eT62hDPz3",
        "outputId": "61f6a3cb-ef59-48d6-fcd8-10ac5e257b6e"
      },
      "execution_count": 126,
      "outputs": [
        {
          "output_type": "stream",
          "name": "stdout",
          "text": [
            "8*x**3 - 6*x + 3\n"
          ]
        }
      ]
    },
    {
      "cell_type": "markdown",
      "source": [
        "Ahora para el método de iteración:"
      ],
      "metadata": {
        "id": "mSKuHr_xK_Or"
      }
    },
    {
      "cell_type": "code",
      "source": [
        "#Definimos la función que se usara en el método\n",
        "def P(x):\n",
        "  return 2*x**4-3*x**2+3*x-4\n",
        "#Definimos la derivaba que previamente calculamos\n",
        "def Q(x):\n",
        "  return 8*x**3 - 6*x + 3"
      ],
      "metadata": {
        "id": "dD_S2kKTzvwO"
      },
      "execution_count": 137,
      "outputs": []
    },
    {
      "cell_type": "code",
      "source": [
        "#Damos el punto inicial y el intervalo\n",
        "a=1\n",
        "b=2\n",
        "x0=-2\n",
        "\n",
        "#Guardamos los coeficientes\n",
        "a=[-4,3,-3,0,2]\n",
        "x0=p\n",
        "p1=-49\n",
        "#Damos los valores iniciales para el error y los contadores\n",
        "tol=0.00001 #Solución exacta a 10^-5\n",
        "nmax=100 #Número maximo de iteraciónes\n",
        "error=1 #Error inicial\n",
        "niter=0 #Contador de iteraciones"
      ],
      "metadata": {
        "id": "OPNYDFSz0V9T"
      },
      "execution_count": 138,
      "outputs": []
    },
    {
      "cell_type": "code",
      "source": [
        "#Método de Horner\n",
        "\n",
        "#Imprimimos el encabezado y la primera linea de la tabla de iteraciones\n",
        "print(\"# iter\\t\\t p \\t\\t p' \\t\\t error\")\n",
        "print(\"{0}\\t\\t {1:6.6f} \\t {2:6.6f} \\t {3:6.6f} \\t \".format(niter, p, p1, error))\n",
        "\n",
        "\n",
        "#Cliclo iterativo\n",
        "while error>tol and niter<nmax:\n",
        "  y=a[4]\n",
        "  z=a[4]\n",
        "  for i in range(len(a)-1, 0):\n",
        "    y=x0*y+a[i]\n",
        "    z=x0*z+y #Iteración del método de Horner\n",
        "  error=abs(x-x0)\n",
        "  niter+=1\n",
        "  x0=p\n",
        "  p1=z\n",
        "  print(\"{0} \\t\\t {1:6.6f} \\t {2:6.6f} \\t \".format(niter, p, error))\n",
        "\n",
        "print(\"La raíz de la función dada en el intervalo [{0:1.0f}, {1:1.0f}] es {2:6.6f}\".format(a, b, p))"
      ],
      "metadata": {
        "id": "7f1voqtJ3Hjd",
        "colab": {
          "base_uri": "https://localhost:8080/",
          "height": 367
        },
        "outputId": "cd9c0fb5-a8db-47b3-a038-b2f2ad32017d"
      },
      "execution_count": 139,
      "outputs": [
        {
          "output_type": "stream",
          "name": "stdout",
          "text": [
            "# iter\t\t p \t\t p' \t\t error\n",
            "0\t\t -2.000000 \t -49.000000 \t 1.000000 \t \n"
          ]
        },
        {
          "output_type": "error",
          "ename": "TypeError",
          "evalue": "unsupported format string passed to Abs.__format__",
          "traceback": [
            "\u001b[0;31m---------------------------------------------------------------------------\u001b[0m",
            "\u001b[0;31mTypeError\u001b[0m                                 Traceback (most recent call last)",
            "\u001b[0;32m<ipython-input-139-bff83c459cba>\u001b[0m in \u001b[0;36m<cell line: 9>\u001b[0;34m()\u001b[0m\n\u001b[1;32m     17\u001b[0m   \u001b[0mx0\u001b[0m\u001b[0;34m=\u001b[0m\u001b[0mp\u001b[0m\u001b[0;34m\u001b[0m\u001b[0;34m\u001b[0m\u001b[0m\n\u001b[1;32m     18\u001b[0m   \u001b[0mp1\u001b[0m\u001b[0;34m=\u001b[0m\u001b[0mz\u001b[0m\u001b[0;34m\u001b[0m\u001b[0;34m\u001b[0m\u001b[0m\n\u001b[0;32m---> 19\u001b[0;31m   \u001b[0mprint\u001b[0m\u001b[0;34m(\u001b[0m\u001b[0;34m\"{0} \\t\\t {1:6.6f} \\t {2:6.6f} \\t \"\u001b[0m\u001b[0;34m.\u001b[0m\u001b[0mformat\u001b[0m\u001b[0;34m(\u001b[0m\u001b[0mniter\u001b[0m\u001b[0;34m,\u001b[0m \u001b[0mp\u001b[0m\u001b[0;34m,\u001b[0m \u001b[0merror\u001b[0m\u001b[0;34m)\u001b[0m\u001b[0;34m)\u001b[0m\u001b[0;34m\u001b[0m\u001b[0;34m\u001b[0m\u001b[0m\n\u001b[0m\u001b[1;32m     20\u001b[0m \u001b[0;34m\u001b[0m\u001b[0m\n\u001b[1;32m     21\u001b[0m \u001b[0mprint\u001b[0m\u001b[0;34m(\u001b[0m\u001b[0;34m\"La raíz de la función dada en el intervalo [{0:1.0f}, {1:1.0f}] es {2:6.6f}\"\u001b[0m\u001b[0;34m.\u001b[0m\u001b[0mformat\u001b[0m\u001b[0;34m(\u001b[0m\u001b[0ma\u001b[0m\u001b[0;34m,\u001b[0m \u001b[0mb\u001b[0m\u001b[0;34m,\u001b[0m \u001b[0mp\u001b[0m\u001b[0;34m)\u001b[0m\u001b[0;34m)\u001b[0m\u001b[0;34m\u001b[0m\u001b[0;34m\u001b[0m\u001b[0m\n",
            "\u001b[0;32m/usr/local/lib/python3.10/dist-packages/sympy/core/expr.py\u001b[0m in \u001b[0;36m__format__\u001b[0;34m(self, format_spec)\u001b[0m\n\u001b[1;32m    381\u001b[0m                 \u001b[0;32mif\u001b[0m \u001b[0mrounded\u001b[0m\u001b[0;34m.\u001b[0m\u001b[0mis_Float\u001b[0m\u001b[0;34m:\u001b[0m\u001b[0;34m\u001b[0m\u001b[0;34m\u001b[0m\u001b[0m\n\u001b[1;32m    382\u001b[0m                     \u001b[0;32mreturn\u001b[0m \u001b[0mformat\u001b[0m\u001b[0;34m(\u001b[0m\u001b[0mrounded\u001b[0m\u001b[0;34m,\u001b[0m \u001b[0mformat_spec\u001b[0m\u001b[0;34m)\u001b[0m\u001b[0;34m\u001b[0m\u001b[0;34m\u001b[0m\u001b[0m\n\u001b[0;32m--> 383\u001b[0;31m         \u001b[0;32mreturn\u001b[0m \u001b[0msuper\u001b[0m\u001b[0;34m(\u001b[0m\u001b[0;34m)\u001b[0m\u001b[0;34m.\u001b[0m\u001b[0m__format__\u001b[0m\u001b[0;34m(\u001b[0m\u001b[0mformat_spec\u001b[0m\u001b[0;34m)\u001b[0m\u001b[0;34m\u001b[0m\u001b[0;34m\u001b[0m\u001b[0m\n\u001b[0m\u001b[1;32m    384\u001b[0m \u001b[0;34m\u001b[0m\u001b[0m\n\u001b[1;32m    385\u001b[0m     \u001b[0;34m@\u001b[0m\u001b[0mstaticmethod\u001b[0m\u001b[0;34m\u001b[0m\u001b[0;34m\u001b[0m\u001b[0m\n",
            "\u001b[0;31mTypeError\u001b[0m: unsupported format string passed to Abs.__format__"
          ]
        }
      ]
    },
    {
      "cell_type": "markdown",
      "source": [
        "Graficamos la funcion:\n",
        "f(x)=x3−x−1\n",
        "para graficamente corroborar el resultado del método"
      ],
      "metadata": {
        "id": "AeIF-7H0LQWZ"
      }
    },
    {
      "cell_type": "code",
      "source": [
        "#Valores del eje X que toma la grafica\n",
        "x=np.linspace(0, 3, 100)"
      ],
      "metadata": {
        "id": "69uA022ZLPXS"
      },
      "execution_count": null,
      "outputs": []
    },
    {
      "cell_type": "code",
      "source": [
        "#Grafica de la función\n",
        "plt.plot(x, P(x))\n",
        "plt.title(\"Gráfica de $f(x)$\")\n",
        "plt.axhline(0, color=\"black\")\n",
        "plt.axvline(0, color=\"black\")\n",
        "plt.xlim(0,3)\n",
        "plt.ylim(-1,3)\n",
        "plt.xlabel(\"x\")\n",
        "plt.ylabel(\"f(x)\")\n",
        "plt.show()"
      ],
      "metadata": {
        "colab": {
          "base_uri": "https://localhost:8080/",
          "height": 475
        },
        "id": "vEVjtkoGLVt_",
        "outputId": "0dc80d75-5388-4cf4-d273-7e3e925425d9"
      },
      "execution_count": null,
      "outputs": [
        {
          "output_type": "display_data",
          "data": {
            "text/plain": [
              "<Figure size 640x480 with 1 Axes>"
            ],
            "image/png": "[encoded data removed]"
          },
          "metadata": {}
        }
      ]
    }
  ]
}