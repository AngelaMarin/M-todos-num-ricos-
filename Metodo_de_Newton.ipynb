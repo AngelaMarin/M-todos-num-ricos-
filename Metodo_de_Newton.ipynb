{
  "nbformat": 4,
  "nbformat_minor": 0,
  "metadata": {
    "colab": {
      "provenance": [],
      "authorship_tag": "ABX9TyNnwaKlVsfwbf/zbQFKL4Xd",
      "include_colab_link": true
    },
    "kernelspec": {
      "name": "python3",
      "display_name": "Python 3"
    },
    "language_info": {
      "name": "python"
    }
  },
  "cells": [
    {
      "cell_type": "markdown",
      "metadata": {
        "id": "view-in-github",
        "colab_type": "text"
      },
      "source": [
        "<a href=\"https://colab.research.google.com/github/AngelaMarin/M-todos-num-ricos-/blob/main/Metodo_de_Newton.ipynb\" target=\"_parent\"><img src=\"https://colab.research.google.com/assets/colab-badge.svg\" alt=\"Open In Colab\"/></a>"
      ]
    },
    {
      "cell_type": "markdown",
      "source": [
        "Método de Newton para la función:\\\n",
        "$f(x)=x^3-x-1$\n"
      ],
      "metadata": {
        "id": "1TOV3gwz03T2"
      }
    },
    {
      "cell_type": "code",
      "execution_count": 60,
      "metadata": {
        "id": "jID6D4MrzAP3"
      },
      "outputs": [],
      "source": [
        "from math import *\n",
        "import numpy as np\n",
        "import sympy as sp\n",
        "import matplotlib.pyplot as plt"
      ]
    },
    {
      "cell_type": "markdown",
      "source": [
        "Usamos la libreria sympy para calcular la derivada de la función a la que le aplicaremos el método"
      ],
      "metadata": {
        "id": "rDwjE_vwI0YG"
      }
    },
    {
      "cell_type": "code",
      "source": [
        "#Definimos la variable que se usará para la función y su derivada, así como la función\n",
        "x=sp.Symbol('x')\n",
        "F=x**3-x-1"
      ],
      "metadata": {
        "id": "EoYMZ2cP9s_x"
      },
      "execution_count": 61,
      "outputs": []
    },
    {
      "cell_type": "code",
      "source": [
        "#Calculamos la derivada de la función que definimos en la linea anterior\n",
        "f_1=sp.diff(F,x)\n",
        "print(f_1)"
      ],
      "metadata": {
        "colab": {
          "base_uri": "https://localhost:8080/"
        },
        "id": "1V-eT62hDPz3",
        "outputId": "4ec3ec47-0db8-4a6c-f6c3-4e97de284981"
      },
      "execution_count": 62,
      "outputs": [
        {
          "output_type": "stream",
          "name": "stdout",
          "text": [
            "3*x**2 - 1\n"
          ]
        }
      ]
    },
    {
      "cell_type": "markdown",
      "source": [
        "Ahora para el método de iteración:"
      ],
      "metadata": {
        "id": "mSKuHr_xK_Or"
      }
    },
    {
      "cell_type": "code",
      "source": [
        "#Definimos la función que se usara en el método\n",
        "def f(x):\n",
        "  return x**3-x-1\n",
        "#Definimos la derivaba que previamente calculamos\n",
        "def f1(x):\n",
        "  return 3*x**2-1\n"
      ],
      "metadata": {
        "id": "dD_S2kKTzvwO"
      },
      "execution_count": 63,
      "outputs": []
    },
    {
      "cell_type": "code",
      "source": [
        "#Damos el punto inicial y el intervalo\n",
        "a=1\n",
        "b=2\n",
        "p=1\n",
        "\n",
        "#Guardamos los datos\n",
        "p0=p\n",
        "#Damos los valores iniciales para el error y los contadores\n",
        "tol=0.001 #Solución exacta a 10^-2\n",
        "nmax=100 #Número maximo de iteraciónes\n",
        "error=1 #Error inicial\n",
        "niter=0 #Contador de iteraciones"
      ],
      "metadata": {
        "id": "OPNYDFSz0V9T"
      },
      "execution_count": 64,
      "outputs": []
    },
    {
      "cell_type": "code",
      "source": [
        "#Método de Newton\n",
        "\n",
        "#Imprimimos el encabezado y la primera linea de la tabla de iteraciones\n",
        "print(\"# iter\\t\\t p \\t\\t error\")\n",
        "print(\"{0}\\t\\t {1:6.3f} \\t {2:6.3f} \\t \".format(niter, p, error))\n",
        "\n",
        "\n",
        "#Cliclo iterativo\n",
        "errores=[] #Lista de errores para graficarlos\n",
        "while error>tol and niter<nmax:\n",
        "  p=p0-(f(p0)/f1(p0)) #Iteración del método de Newton\n",
        "  error=abs(p-p0)\n",
        "  niter+=1\n",
        "  p0=p\n",
        "  c=error/0.5 #Se normaliza el error **Viendo el valor del error inicial\n",
        "  errores.append(c) #por cada iteración se va guardando el error normalizado\n",
        "  print(\"{0} \\t\\t {1:6.3f} \\t {2:6.3f}\".format(niter, p, error))\n",
        "\n",
        "print(\"La raíz de la función dada en el intervalo [{0:1.0f}, {1:1.0f}] es {2:6.3f}\".format(a, b, p))"
      ],
      "metadata": {
        "colab": {
          "base_uri": "https://localhost:8080/"
        },
        "id": "7f1voqtJ3Hjd",
        "outputId": "2963f009-c793-4ad9-eb22-90695a1a5e2e"
      },
      "execution_count": 65,
      "outputs": [
        {
          "output_type": "stream",
          "name": "stdout",
          "text": [
            "# iter\t\t p \t\t error\n",
            "0\t\t  1.000 \t  1.000 \t \n",
            "1 \t\t  1.500 \t  0.500\n",
            "2 \t\t  1.348 \t  0.152\n",
            "3 \t\t  1.325 \t  0.023\n",
            "4 \t\t  1.325 \t  0.000\n",
            "La raíz de la función dada en el intervalo [1, 2] es  1.325\n"
          ]
        }
      ]
    },
    {
      "cell_type": "markdown",
      "source": [
        "Graficamos la funcion:\n",
        "f(x)=x3−x−1\n",
        "para graficamente corroborar el resultado del método"
      ],
      "metadata": {
        "id": "AeIF-7H0LQWZ"
      }
    },
    {
      "cell_type": "code",
      "source": [
        "#Valores del eje X que toma la grafica\n",
        "x=np.linspace(0, 3, 100)"
      ],
      "metadata": {
        "id": "69uA022ZLPXS"
      },
      "execution_count": 66,
      "outputs": []
    },
    {
      "cell_type": "code",
      "source": [
        "#Grafica de la función\n",
        "plt.plot(x, f(x))\n",
        "plt.title(\"Gráfica de $f(x)$\")\n",
        "plt.axhline(0, color=\"black\")\n",
        "plt.axvline(0, color=\"black\")\n",
        "plt.xlim(0,3)\n",
        "plt.ylim(-1,3)\n",
        "plt.xlabel(\"x\")\n",
        "plt.ylabel(\"f(x)\")\n",
        "plt.show()"
      ],
      "metadata": {
        "colab": {
          "base_uri": "https://localhost:8080/",
          "height": 475
        },
        "id": "vEVjtkoGLVt_",
        "outputId": "6b9f8857-80e2-4fee-ff8a-b7eeb1a28298"
      },
      "execution_count": 67,
      "outputs": [
        {
          "output_type": "display_data",
          "data": {
            "text/plain": [
              "<Figure size 640x480 with 1 Axes>"
            ],
            "image/png": "[encoded data removed]"
          },
          "metadata": {}
        }
      ]
    },
    {
      "cell_type": "markdown",
      "source": [
        "Por último graficamos los errores para ver su convergencia"
      ],
      "metadata": {
        "id": "UxP-sB3qLcvH"
      }
    },
    {
      "cell_type": "code",
      "source": [
        "plt.plot(errores)\n",
        "plt.title(\"Gráfica de los errores\")\n",
        "plt.axhline(0,color=\"black\")\n",
        "plt.axvline(0, color=\"black\")\n",
        "plt.xlabel(\"i\")\n",
        "plt.ylabel(\"e\")\n",
        "plt.show()"
      ],
      "metadata": {
        "colab": {
          "base_uri": "https://localhost:8080/",
          "height": 472
        },
        "id": "2KJkWfAfLdv5",
        "outputId": "a928f4a2-39fb-4d97-a87d-4ceb4d8ea4e4"
      },
      "execution_count": 68,
      "outputs": [
        {
          "output_type": "display_data",
          "data": {
            "text/plain": [
              "<Figure size 640x480 with 1 Axes>"
            ],
            "image/png": "[encoded data removed]"
          },
          "metadata": {}
        }
      ]
    }
  ]
}