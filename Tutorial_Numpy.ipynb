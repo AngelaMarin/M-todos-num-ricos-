{
  "nbformat": 4,
  "nbformat_minor": 0,
  "metadata": {
    "colab": {
      "provenance": [],
      "authorship_tag": "ABX9TyM06Fk5ZUKvodeLYb559yMl",
      "include_colab_link": true
    },
    "kernelspec": {
      "name": "python3",
      "display_name": "Python 3"
    },
    "language_info": {
      "name": "python"
    }
  },
  "cells": [
    {
      "cell_type": "markdown",
      "metadata": {
        "id": "view-in-github",
        "colab_type": "text"
      },
      "source": [
        "<a href=\"https://colab.research.google.com/github/AngelaMarin/M-todos-num-ricos-/blob/main/Tutorial_Numpy.ipynb\" target=\"_parent\"><img src=\"https://colab.research.google.com/assets/colab-badge.svg\" alt=\"Open In Colab\"/></a>"
      ]
    },
    {
      "cell_type": "markdown",
      "source": [
        "# ¿Cómo usar $NumPy$?\n",
        "Para usar $NumPy$, primero contestemos la sigueinte pregunta:\n",
        "\n",
        "¿Que es $NumPy$?\n",
        "\n",
        "$NumPy$ (Numerical Python) es una biblioteca en $Python$. Es útil cuando se manejan arreglos y matrices grandes, además de ofrecer una extensa colección de funciones matemáticas (de ahí su nombre).\n",
        "\n",
        "Para usar esta libreria basta seguir los siguientes pasos:\n",
        "\n",
        "1. Instalarla:\n",
        "```\n",
        "pip install numpy  #algunos entornos ya la tienen instalada\n",
        "```\n",
        "2. Una vez instalada se procede a importarla (para que este disponible es el script que se este trabajando):\n",
        "```\n",
        "import numpy as np #importa las funciones de NumPy bajo el alias de np\n",
        "```\n",
        "3. Conocer como funciona.\n",
        "\n",
        "Para este último paso, recordemos que $NumPy$ trabaja con arreglos (en adelante \"arrays\").\n",
        "\n",
        "Un array es una estructura que almacena una colección de datos, los podemos manejar de diferentes maneras, por ejemplo como:\n",
        "* Vector:\n",
        "```\n",
        "a=np.array([1,2,3,...]) #con 1,2,3... los valores del vector\n",
        "```\n",
        "* Matriz:\n",
        "```\n",
        "a=np.array([[1,2,3,...],[1,2,3,...],[1,2,3,...],...]) #Con 1,2,3,...  los valores de la matriz\n",
        "```\n",
        "* Matriz de ceros:\n",
        "```\n",
        "a=np.zeros((1,2,...)) #con 1,2,... las dimensiones de la matriz\n",
        "```\n",
        "* Matriz de unos:\n",
        "```\n",
        "a=np.ones((1,2,...)) #con 1,2,... las dimensiones de la matriz\n",
        "```\n",
        "* Matriz de valores constantes:\n",
        "```\n",
        "a=np.full((1,2,...), c) #con 1,2,... las dimensiones de la matriz y c el valor constante\n",
        "```\n",
        "* Vector en un rango de valores\n",
        "```\n",
        "a=np.arange(0,5,1) #con 0 y 5 el rango de valores y 1 la diferencia entre valores del array\n",
        "a=np.linspace(0,5,10) #con 0 y 5 el rango de valores y 10 el número de elementos del array\n",
        "```\n",
        "Bien definido un array podemos calcular lo siguiente:\n",
        "* La forma del arreglo\n",
        "```\n",
        "a.shape\n",
        "```\n",
        "* La dimensión\n",
        "```\n",
        "a.ndim\n",
        "```\n",
        "* El tamaño\n",
        "```\n",
        "a.size\n",
        "```\n",
        "\n",
        "\n",
        "\n",
        "\n",
        "\n",
        "\n",
        "\n",
        "\n",
        "\n",
        "\n"
      ],
      "metadata": {
        "id": "nzSQRt0Ix0tL"
      }
    }
  ]
}