{
  "nbformat": 4,
  "nbformat_minor": 0,
  "metadata": {
    "colab": {
      "provenance": [],
      "authorship_tag": "ABX9TyOkBoCFd0ry3ErTqOud1go1",
      "include_colab_link": true
    },
    "kernelspec": {
      "name": "python3",
      "display_name": "Python 3"
    },
    "language_info": {
      "name": "python"
    }
  },
  "cells": [
    {
      "cell_type": "markdown",
      "metadata": {
        "id": "view-in-github",
        "colab_type": "text"
      },
      "source": [
        "<a href=\"https://colab.research.google.com/github/AngelaMarin/M-todos-num-ricos-/blob/main/Operador_adjunto_de_operador_integral.ipynb\" target=\"_parent\"><img src=\"https://colab.research.google.com/assets/colab-badge.svg\" alt=\"Open In Colab\"/></a>"
      ]
    },
    {
      "cell_type": "code",
      "execution_count": 17,
      "metadata": {
        "id": "oo7Ldf5eJJZK"
      },
      "outputs": [],
      "source": [
        "import numpy as np\n",
        "import scipy as sp"
      ]
    },
    {
      "cell_type": "code",
      "source": [
        "#Dentro de la librería Spicy podemos trabajar con caracteres, en particular nos interesa trabajar con la parte integral\n",
        "\n",
        "#Definimos las funciones base\n",
        "def h(x, i):\n",
        "  if i==0:\n",
        "    return 1\n",
        "  elif i==1:\n",
        "    return x\n",
        "  elif i==2:\n",
        "    return x**2\n",
        "  else:\n",
        "    return 0\n",
        "\n",
        "#Definimos la función para calcular la adjunta de H por el vector z\n",
        "def Htz(z, x):\n",
        "  N=len(z)\n",
        "  resultado=sum(z[i]*h(x,i) for i in range(N))\n",
        "  return resultado\n",
        "\n",
        "#Definimos la función para calcular la adjunta\n",
        "def adjunta(f, h, z, a, b):\n",
        "  N=len(z)\n",
        "  resultado=sum(z[i]*sp.integrate.quad(lambda x: f(x), a, b)[0] for i in range(N))\n",
        "  return resultado\n",
        "\n",
        "#Función para verificar si es la adjunta\n",
        "def verificar(f, z, a, b):\n",
        "  producto=adjunta(f, h, z, a, b)\n",
        "  productoa=sp.integrate.quad(lambda x: f(x)*Htz(z, x), a, b)[0]\n",
        "  return np.allclose(producto, productoa)\n",
        "\n",
        "\n",
        "\n"
      ],
      "metadata": {
        "id": "pNbmjadZJTWs"
      },
      "execution_count": 25,
      "outputs": []
    },
    {
      "cell_type": "code",
      "source": [
        "N=3\n",
        "a,b=0,1\n",
        "z=([1,2,3])\n",
        "f=lambda x:np.sin(2*np.pi*x)\n",
        "\n",
        "print(adjunta(f, h, z, a, b))\n",
        "print (\"La matriz es adjunta:\", verificar(f, z, a, b))\n"
      ],
      "metadata": {
        "colab": {
          "base_uri": "https://localhost:8080/"
        },
        "id": "PDLsDWDETf_3",
        "outputId": "53db558c-8bb4-40a3-f139-2055fc1d5db0"
      },
      "execution_count": 26,
      "outputs": [
        {
          "output_type": "stream",
          "name": "stdout",
          "text": [
            "-4.3632919675998665e-17\n",
            "La matriz es adjunta: False\n"
          ]
        }
      ]
    }
  ]
}