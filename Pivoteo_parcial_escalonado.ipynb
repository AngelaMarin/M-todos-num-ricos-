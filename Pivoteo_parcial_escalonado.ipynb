{
  "nbformat": 4,
  "nbformat_minor": 0,
  "metadata": {
    "colab": {
      "provenance": [],
      "authorship_tag": "ABX9TyPm1g0tCp4QDTDKcDB6E61a",
      "include_colab_link": true
    },
    "kernelspec": {
      "name": "python3",
      "display_name": "Python 3"
    },
    "language_info": {
      "name": "python"
    }
  },
  "cells": [
    {
      "cell_type": "markdown",
      "metadata": {
        "id": "view-in-github",
        "colab_type": "text"
      },
      "source": [
        "<a href=\"https://colab.research.google.com/github/AngelaMarin/M-todos-num-ricos-/blob/main/Pivoteo_parcial_escalonado.ipynb\" target=\"_parent\"><img src=\"https://colab.research.google.com/assets/colab-badge.svg\" alt=\"Open In Colab\"/></a>"
      ]
    },
    {
      "cell_type": "code",
      "execution_count": 2,
      "metadata": {
        "id": "rPjJONrzt6XM"
      },
      "outputs": [],
      "source": [
        "import numpy as np"
      ]
    },
    {
      "cell_type": "code",
      "source": [
        "def PPE(A):\n",
        "  n=len(A)\n",
        "  NROW=list(range(n))\n",
        "  s=[0]*n\n",
        "\n",
        "  for i in range(n):\n",
        "    s[i]=max(abs(A[i][j]) for j in range(n+1))\n",
        "    if s[i]==0:\n",
        "      return (\"No hay solución única\")\n",
        "  for i in range(n-1):\n",
        "    p=i\n",
        "    max_v=abs(A[NROW[p]][i])/s[NROW[p]]\n",
        "    for j in range(i+1,n):\n",
        "      v=abs(A[NROW[j]][i])/s[NROW[j]]\n",
        "      if v>max_v:\n",
        "        p=j\n",
        "        max_v=v\n",
        "    if A[NROW[p]][i]==0:\n",
        "      return (\"No hay solución única\")\n",
        "\n",
        "    if NROW[i]!=NROW[p]:\n",
        "      NROW[i],NROW[p]=NROW[p],NROW[i]\n",
        "\n",
        "    for j in range(i+1,n):\n",
        "      m=A[NROW[j]][i]/A[NROW[i]][i]\n",
        "      for k in range(i,n+1):\n",
        "        A[NROW[j]][k]-=m*A[NROW[i]][k]\n",
        "  if A[NROW[n-1]][n-1]==0:\n",
        "    return (\"No hay solución única\")\n",
        "\n",
        "  x=[0]*n\n",
        "  x[n-1]=A[NROW[n-1]][n]/A[NROW[n-1]][n-1]\n",
        "  for i in range(n-2,-1,-1):\n",
        "    s=sum(A[NROW[i]][j]*x[j] for j in range (i+1,n))\n",
        "    x[i]=(A[NROW[i]][n]-s)/A[NROW[i]][i]\n",
        "\n",
        "    return x\n"
      ],
      "metadata": {
        "id": "ZXzTV4rYxy3B"
      },
      "execution_count": 5,
      "outputs": []
    },
    {
      "cell_type": "code",
      "source": [
        "A=np.array([[2.11,-4.21,0.921,2.01],[4.01,10.2,-1.12,-3.09],[1.09,0.987,0.832,4.21]])\n",
        "print(\"La solución al sistema es:\", PPE(A))"
      ],
      "metadata": {
        "colab": {
          "base_uri": "https://localhost:8080/"
        },
        "id": "sSFPh8Q-jB3a",
        "outputId": "b9296cbb-e139-483e-99f8-5e98b5382eda"
      },
      "execution_count": 6,
      "outputs": [
        {
          "output_type": "stream",
          "name": "stdout",
          "text": [
            "La solución al sistema es: [0, 0.4269032296075052, 5.1143886097819635]\n"
          ]
        }
      ]
    }
  ]
}