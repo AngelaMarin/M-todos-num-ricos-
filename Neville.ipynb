{
  "nbformat": 4,
  "nbformat_minor": 0,
  "metadata": {
    "colab": {
      "provenance": [],
      "authorship_tag": "ABX9TyNZvclxh7I2AbC3Vjddv+05",
      "include_colab_link": true
    },
    "kernelspec": {
      "name": "python3",
      "display_name": "Python 3"
    },
    "language_info": {
      "name": "python"
    }
  },
  "cells": [
    {
      "cell_type": "markdown",
      "metadata": {
        "id": "view-in-github",
        "colab_type": "text"
      },
      "source": [
        "<a href=\"https://colab.research.google.com/github/AngelaMarin/M-todos-num-ricos-/blob/main/Neville.ipynb\" target=\"_parent\"><img src=\"https://colab.research.google.com/assets/colab-badge.svg\" alt=\"Open In Colab\"/></a>"
      ]
    },
    {
      "cell_type": "code",
      "execution_count": null,
      "metadata": {
        "id": "kIiQB-X9gF-t"
      },
      "outputs": [],
      "source": [
        "import sympy as sp"
      ]
    },
    {
      "cell_type": "code",
      "source": [
        "x=sp.Symbol('x')\n",
        "Q=sp.Symbol('Q')"
      ],
      "metadata": {
        "id": "-a_jwC-5gkcp"
      },
      "execution_count": null,
      "outputs": []
    },
    {
      "cell_type": "code",
      "source": [
        "Q=((x+1)*(2*x+1)-(x-1)*((2/3)*x+1))/2"
      ],
      "metadata": {
        "id": "9EKhtA--gpqN"
      },
      "execution_count": null,
      "outputs": []
    },
    {
      "cell_type": "code",
      "source": [
        "sp.simplify(Q)"
      ],
      "metadata": {
        "colab": {
          "base_uri": "https://localhost:8080/",
          "height": 61
        },
        "id": "gQLyA_slhYUf",
        "outputId": "92b53663-ed43-4f25-ff73-29bcbbc934b2"
      },
      "execution_count": null,
      "outputs": [
        {
          "output_type": "execute_result",
          "data": {
            "text/plain": [
              "0.666666666666667*x**2 + 1.33333333333333*x + 1.0"
            ],
            "text/latex": "$\\displaystyle 0.666666666666667 x^{2} + 1.33333333333333 x + 1.0$"
          },
          "metadata": {},
          "execution_count": 19
        }
      ]
    }
  ]
}