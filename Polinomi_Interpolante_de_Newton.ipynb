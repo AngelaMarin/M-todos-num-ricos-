{
  "nbformat": 4,
  "nbformat_minor": 0,
  "metadata": {
    "colab": {
      "provenance": [],
      "authorship_tag": "ABX9TyMcFY8mP2q0GGpSoT1TstZM",
      "include_colab_link": true
    },
    "kernelspec": {
      "name": "python3",
      "display_name": "Python 3"
    },
    "language_info": {
      "name": "python"
    }
  },
  "cells": [
    {
      "cell_type": "markdown",
      "metadata": {
        "id": "view-in-github",
        "colab_type": "text"
      },
      "source": [
        "<a href=\"https://colab.research.google.com/github/AngelaMarin/M-todos-num-ricos-/blob/main/Polinomi_Interpolante_de_Newton.ipynb\" target=\"_parent\"><img src=\"https://colab.research.google.com/assets/colab-badge.svg\" alt=\"Open In Colab\"/></a>"
      ]
    },
    {
      "cell_type": "code",
      "execution_count": 36,
      "metadata": {
        "id": "bqBfi4q3yFHe"
      },
      "outputs": [],
      "source": [
        "import numpy as np\n",
        "import scipy as sp\n",
        "import matplotlib.pyplot as plt"
      ]
    },
    {
      "cell_type": "code",
      "source": [
        "#Para empezar damos los valores con los que vamos a trabajar\n",
        "x=np.array([0,1,2,3,4,5])\n",
        "f=np.array([-5,1,9,25,55,105])"
      ],
      "metadata": {
        "id": "FzVTxE4fy8PC"
      },
      "execution_count": 37,
      "outputs": []
    },
    {
      "cell_type": "code",
      "source": [
        "#Primeras diferencias\n",
        "dif1=np.diff(y)\n",
        "print(dif1)"
      ],
      "metadata": {
        "colab": {
          "base_uri": "https://localhost:8080/"
        },
        "id": "_9sy7s4Q3UgB",
        "outputId": "430c2ae3-1d6a-4161-fe4f-d02a703b899d"
      },
      "execution_count": 25,
      "outputs": [
        {
          "output_type": "stream",
          "name": "stdout",
          "text": [
            "[ 6  8 16 30 50]\n"
          ]
        }
      ]
    },
    {
      "cell_type": "code",
      "source": [
        "#Segundas diferencias\n",
        "dif2=np.diff(dif1)\n",
        "print(dif2)"
      ],
      "metadata": {
        "colab": {
          "base_uri": "https://localhost:8080/"
        },
        "id": "o6YHL7Dy4Hye",
        "outputId": "cfcb1b83-afb7-4fd8-b34b-bb1a84fd3da0"
      },
      "execution_count": 26,
      "outputs": [
        {
          "output_type": "stream",
          "name": "stdout",
          "text": [
            "[ 2  8 14 20]\n"
          ]
        }
      ]
    },
    {
      "cell_type": "code",
      "source": [
        "#Terceras diferencias\n",
        "dif3=np.diff(dif2)\n",
        "print(dif3)"
      ],
      "metadata": {
        "colab": {
          "base_uri": "https://localhost:8080/"
        },
        "id": "8RMEKP1s4N76",
        "outputId": "dd0ddc7d-2c01-4926-e793-72057960c7d9"
      },
      "execution_count": 27,
      "outputs": [
        {
          "output_type": "stream",
          "name": "stdout",
          "text": [
            "[6 6 6]\n"
          ]
        }
      ]
    },
    {
      "cell_type": "code",
      "source": [
        "#Definimos el polinomio interpolante\n",
        "def p(k):\n",
        "  c1=sc.special.binom(k,1)\n",
        "  c2=sc.special.binom(k,2)\n",
        "  c3=sc.special.binom(k,3)\n",
        "  return f[1]+c1*dif1[1]+c2*dif2[1]+c3*dif3[1]"
      ],
      "metadata": {
        "id": "FQGLIbrC5qCm"
      },
      "execution_count": 50,
      "outputs": []
    },
    {
      "cell_type": "code",
      "source": [
        "#caluculamos el valor deseado\n",
        "xk=1.5\n",
        "k=(xk-x[1])/x[1]\n",
        "print(p(k))\n"
      ],
      "metadata": {
        "colab": {
          "base_uri": "https://localhost:8080/"
        },
        "id": "_d4q7Tqw8vTZ",
        "outputId": "21eb5e1d-092e-4899-aa94-858137d1e497"
      },
      "execution_count": 48,
      "outputs": [
        {
          "output_type": "stream",
          "name": "stdout",
          "text": [
            "4.375\n"
          ]
        }
      ]
    },
    {
      "cell_type": "code",
      "source": [
        "#Definimos x para graficar el polinomio interpolante\n",
        "xn=np.linspace(0,5,100)"
      ],
      "metadata": {
        "id": "bvpS5K9T6kr8"
      },
      "execution_count": 40,
      "outputs": []
    },
    {
      "cell_type": "code",
      "source": [
        "#Graficamos el polinomio y los valores originales\n",
        "plt.scatter(x,f)\n",
        "plt.plot(xn,p(xn))\n",
        "plt.axhline(0, color='black')\n",
        "plt.axvline(0,color='black')\n",
        "plt.title('Polinomio interpolante')\n",
        "plt.xlabel('x')\n",
        "plt.ylabel('f(x)')\n",
        "plt.show()\n"
      ],
      "metadata": {
        "colab": {
          "base_uri": "https://localhost:8080/",
          "height": 472
        },
        "id": "ausBkB-L62ig",
        "outputId": "2ea93192-6586-488c-c273-1b22a071a0e1"
      },
      "execution_count": 49,
      "outputs": [
        {
          "output_type": "display_data",
          "data": {
            "text/plain": [
              "<Figure size 640x480 with 1 Axes>"
            ],
            "image/png": "[encoded data removed]"
          },
          "metadata": {}
        }
      ]
    }
  ]
}