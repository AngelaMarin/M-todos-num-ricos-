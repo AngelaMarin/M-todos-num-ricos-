{
  "nbformat": 4,
  "nbformat_minor": 0,
  "metadata": {
    "colab": {
      "provenance": [],
      "authorship_tag": "ABX9TyPtpxVA/c/w6pBN2+DmCDJ9",
      "include_colab_link": true
    },
    "kernelspec": {
      "name": "python3",
      "display_name": "Python 3"
    },
    "language_info": {
      "name": "python"
    }
  },
  "cells": [
    {
      "cell_type": "markdown",
      "metadata": {
        "id": "view-in-github",
        "colab_type": "text"
      },
      "source": [
        "<a href=\"https://colab.research.google.com/github/AngelaMarin/M-todos-num-ricos-/blob/main/M%C3%A9todo_de_Muller.ipynb\" target=\"_parent\"><img src=\"https://colab.research.google.com/assets/colab-badge.svg\" alt=\"Open In Colab\"/></a>"
      ]
    },
    {
      "cell_type": "markdown",
      "source": [
        "Método de Müller"
      ],
      "metadata": {
        "id": "lw8nn9IL24Ol"
      }
    },
    {
      "cell_type": "code",
      "execution_count": 11,
      "metadata": {
        "id": "wAWDR835FmMe"
      },
      "outputs": [],
      "source": [
        "from math import *"
      ]
    },
    {
      "cell_type": "code",
      "source": [
        "\n",
        "#Definimos el polinomio al cual aplicaremos el método\n",
        "def f(x):\n",
        "   return x**4-3*x**3+x**2+x+1"
      ],
      "metadata": {
        "id": "Xlzegrk4G2jW"
      },
      "execution_count": 12,
      "outputs": []
    },
    {
      "cell_type": "code",
      "source": [
        "#Damos nuestras aproximaciones iniciales\n",
        "p0=1\n",
        "p1=1.1\n",
        "p2=1.2\n",
        "\n",
        "#Guardamos los datos\n",
        "h1=p1-p0\n",
        "h2=p2-p1\n",
        "d1=(f(p1)-f(p0))/h1\n",
        "d2=(f(p2)-f(p1))/h2\n",
        "d=(d2-d1)/(h1+h2)\n",
        "\n",
        "#Damos los valores iniciales para el error y los contadores\n",
        "tol=0.00001 #Solución exacta a 10^-2\n",
        "nmax=100 #Número maximo de iteraciónes\n",
        "error=1 #Error inicial\n",
        "niter=3 #Contador de iteraciones"
      ],
      "metadata": {
        "id": "eESlbwIkHK79"
      },
      "execution_count": 13,
      "outputs": []
    },
    {
      "cell_type": "code",
      "source": [
        "#Método de Müller\n",
        "\n",
        "#Imprimimos el encabezado y la primera linea de la tabla de iteraciones\n",
        "print(\"# iter\\t\\t p \\t\\t error\")\n",
        "print(\"{0}\\t\\t {1:6.5f} \\t {2:6.5f}\\t \".format(niter, p2, error))\n",
        "\n",
        "while error>tol and niter<nmax:\n",
        "   b=d2+h2*d\n",
        "   D=(b**2-4*f(p2)*d)**(1/2)\n",
        "   E=b-D\n",
        "   error=abs((-2*f(p2))/E)\n",
        "   p=p2+error\n",
        "   p0=p1\n",
        "   p1=p2\n",
        "   p2=p\n",
        "   h1=p1-p0\n",
        "   h2=p2-p1\n",
        "   d1=(f(p1)-f(p0))/h1\n",
        "   d2=(f(p2)-f(p1))/h2\n",
        "   d=(d2-d1)/(h1+h2)\n",
        "   niter+=1\n",
        "   print(\"{0} \\t\\t {1:6.5f} \\t {2:6.5f}\".format(niter, p, error))\n",
        "\n",
        "print(\"Una de las raices del polinomio dado es {0:6.5f}\".format(p))"
      ],
      "metadata": {
        "colab": {
          "base_uri": "https://localhost:8080/"
        },
        "id": "j-CYRBGPM6EL",
        "outputId": "80e2f4c3-650c-4618-fd3c-9f86175636c1"
      },
      "execution_count": 14,
      "outputs": [
        {
          "output_type": "stream",
          "name": "stdout",
          "text": [
            "# iter\t\t p \t\t error\n",
            "3\t\t 1.20000 \t 1.00000\t \n",
            "4 \t\t 1.37839 \t 0.17839\n",
            "5 \t\t 1.38897 \t 0.01058\n",
            "6 \t\t 1.38939 \t 0.00042\n",
            "7 \t\t 1.38939 \t 0.00000\n",
            "Una de las raices del polinomio dado es 1.38939\n"
          ]
        }
      ]
    }
  ]
}