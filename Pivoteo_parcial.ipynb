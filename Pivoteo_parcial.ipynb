{
  "nbformat": 4,
  "nbformat_minor": 0,
  "metadata": {
    "colab": {
      "provenance": [],
      "authorship_tag": "ABX9TyMLhPP+0vRe7Lj0ilsSTFw+",
      "include_colab_link": true
    },
    "kernelspec": {
      "name": "python3",
      "display_name": "Python 3"
    },
    "language_info": {
      "name": "python"
    }
  },
  "cells": [
    {
      "cell_type": "markdown",
      "metadata": {
        "id": "view-in-github",
        "colab_type": "text"
      },
      "source": [
        "<a href=\"https://colab.research.google.com/github/AngelaMarin/M-todos-num-ricos-/blob/main/Pivoteo_parcial.ipynb\" target=\"_parent\"><img src=\"https://colab.research.google.com/assets/colab-badge.svg\" alt=\"Open In Colab\"/></a>"
      ]
    },
    {
      "cell_type": "code",
      "execution_count": 1,
      "metadata": {
        "id": "qVs5Jdp1yZM3"
      },
      "outputs": [],
      "source": [
        "import numpy as np"
      ]
    },
    {
      "cell_type": "code",
      "source": [
        "#Definimos una función que nos devuelva la solución de un sistema de ecuaciones\n",
        "def PP(A): #Necesitamos ingresar los datos del sistema en morfa de una matríz aumentada\n",
        "  n=len(A)\n",
        "  NROW=list(range(n))\n",
        "  for i in range(n-1):\n",
        "    p=i\n",
        "    for j in range(i+1,n):\n",
        "      if abs(A[NROW[j]][i]>abs(A[NROW[p]][i])):\n",
        "        p=j\n",
        "    if A[NROW[p]][i]==0:\n",
        "      return (\"No hay solución única\")\n",
        "    if NROW[i]!=NROW[p]:\n",
        "      NROW[i],NROW[p]=NROW[p],NROW[i] #Cambio de columnas\n",
        "    for j  in range(i+1,n):\n",
        "      m=A[NROW[j]][i]/A[NROW[i]][i]\n",
        "      for k in range(i,n+1):\n",
        "        A[NROW[j]][k]-=m*A[NROW[i]][k]\n",
        "  if A[NROW[n-1]][n-1]==0:\n",
        "    return (\"No hay solución única\")\n",
        "  x=[0]*n\n",
        "  x[n-1]=A[NROW[n-1]][n]/A[NROW[n-1]][n-1]\n",
        "  for i in range(n-2,-1,-1):\n",
        "    s=sum(A[NROW[i]][j]*x[j] for j in range(i+1,n))\n",
        "    x[i]=(A[NROW[i]][n]-s)/A[NROW[i]][i]\n",
        "\n",
        "    return x\n",
        "\n",
        "\n"
      ],
      "metadata": {
        "id": "oGALm9flY3UB"
      },
      "execution_count": 13,
      "outputs": []
    },
    {
      "cell_type": "code",
      "source": [
        "A=np.array([[0.003000,59.14,59.17],[5.291,-6.130,46.78]])\n",
        "print(\"La solución al sistema es:\", PP(A))"
      ],
      "metadata": {
        "colab": {
          "base_uri": "https://localhost:8080/"
        },
        "id": "0LM8wOaycW28",
        "outputId": "4b6d04b2-72f4-4f72-ad9a-c17f5b4ac0b6"
      },
      "execution_count": 12,
      "outputs": [
        {
          "output_type": "stream",
          "name": "stdout",
          "text": [
            "La solución al sistema es: [10.0, 1.0]\n"
          ]
        }
      ]
    }
  ]
}